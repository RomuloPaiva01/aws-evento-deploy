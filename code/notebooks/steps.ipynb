{
 "cells": [
  {
   "cell_type": "code",
   "execution_count": 4,
   "id": "0c3e5020",
   "metadata": {},
   "outputs": [],
   "source": [
    "import yaml"
   ]
  },
  {
   "cell_type": "code",
   "execution_count": 5,
   "id": "d99500e5",
   "metadata": {},
   "outputs": [],
   "source": [
    "# reading config file\n",
    "def read_yaml(file_path):\n",
    "    with open(file_path, \"r\") as f:\n",
    "        return yaml.safe_load(f)\n",
    "\n",
    "\n",
    "config = read_yaml(\"config.yaml\")"
   ]
  },
  {
   "cell_type": "code",
   "execution_count": 9,
   "id": "c1a236de",
   "metadata": {},
   "outputs": [],
   "source": [
    "REGION = config['AWS_BASIC_CONFIG']['REGION']\n",
    "AWS_ID = config['AWS_BASIC_CONFIG']['AWS_ID']\n",
    "AWS_ACCESS_KEY_ID = config['AWS_BASIC_CONFIG']['AWS_ACCESS_KEY_ID']\n",
    "AWS_SECRET_ACCESS_KEY = config['AWS_BASIC_CONFIG']['AWS_SECRET_ACCESS_KEY']"
   ]
  },
  {
   "cell_type": "code",
   "execution_count": 11,
   "id": "6524d8d4",
   "metadata": {},
   "outputs": [
    {
     "name": "stdout",
     "output_type": "stream",
     "text": [
      "Collecting awscli\n",
      "  Downloading awscli-1.25.42-py3-none-any.whl (3.9 MB)\n",
      "\u001b[K     |████████████████████████████████| 3.9 MB 5.5 MB/s eta 0:00:01\n",
      "\u001b[?25hCollecting s3transfer<0.7.0,>=0.6.0\n",
      "  Downloading s3transfer-0.6.0-py3-none-any.whl (79 kB)\n",
      "\u001b[K     |████████████████████████████████| 79 kB 7.1 MB/s eta 0:00:01\n",
      "\u001b[?25hCollecting rsa<4.8,>=3.1.2\n",
      "  Using cached rsa-4.7.2-py3-none-any.whl (34 kB)\n",
      "Requirement already satisfied: colorama<0.4.5,>=0.2.5 in /Users/romuloamaral/opt/anaconda3/lib/python3.9/site-packages (from awscli) (0.4.4)\n",
      "Collecting botocore==1.27.42\n",
      "  Downloading botocore-1.27.42-py3-none-any.whl (9.0 MB)\n",
      "\u001b[K     |████████████████████████████████| 9.0 MB 11.9 MB/s eta 0:00:01\n",
      "\u001b[?25hCollecting PyYAML<5.5,>=3.10\n",
      "  Using cached PyYAML-5.4.1-cp39-cp39-macosx_10_9_x86_64.whl (259 kB)\n",
      "Collecting docutils<0.17,>=0.10\n",
      "  Downloading docutils-0.16-py2.py3-none-any.whl (548 kB)\n",
      "\u001b[K     |████████████████████████████████| 548 kB 2.3 MB/s eta 0:00:01\n",
      "\u001b[?25hRequirement already satisfied: urllib3<1.27,>=1.25.4 in /Users/romuloamaral/opt/anaconda3/lib/python3.9/site-packages (from botocore==1.27.42->awscli) (1.26.7)\n",
      "Requirement already satisfied: python-dateutil<3.0.0,>=2.1 in /Users/romuloamaral/opt/anaconda3/lib/python3.9/site-packages (from botocore==1.27.42->awscli) (2.8.2)\n",
      "Collecting jmespath<2.0.0,>=0.7.1\n",
      "  Downloading jmespath-1.0.1-py3-none-any.whl (20 kB)\n",
      "Requirement already satisfied: six>=1.5 in /Users/romuloamaral/opt/anaconda3/lib/python3.9/site-packages (from python-dateutil<3.0.0,>=2.1->botocore==1.27.42->awscli) (1.16.0)\n",
      "Collecting pyasn1>=0.1.3\n",
      "  Using cached pyasn1-0.4.8-py2.py3-none-any.whl (77 kB)\n",
      "Installing collected packages: jmespath, pyasn1, botocore, s3transfer, rsa, PyYAML, docutils, awscli\n",
      "  Attempting uninstall: PyYAML\n",
      "    Found existing installation: PyYAML 6.0\n",
      "    Uninstalling PyYAML-6.0:\n",
      "      Successfully uninstalled PyYAML-6.0\n",
      "  Attempting uninstall: docutils\n",
      "    Found existing installation: docutils 0.17.1\n",
      "    Uninstalling docutils-0.17.1:\n",
      "      Successfully uninstalled docutils-0.17.1\n",
      "\u001b[31mERROR: pip's dependency resolver does not currently take into account all the packages that are installed. This behaviour is the source of the following dependency conflicts.\n",
      "conda-repo-cli 1.0.4 requires pathlib, which is not installed.\u001b[0m\n",
      "Successfully installed PyYAML-5.4.1 awscli-1.25.42 botocore-1.27.42 docutils-0.16 jmespath-1.0.1 pyasn1-0.4.8 rsa-4.7.2 s3transfer-0.6.0\n"
     ]
    }
   ],
   "source": [
    "! pip install awscli"
   ]
  },
  {
   "cell_type": "code",
   "execution_count": 14,
   "id": "4ec600bf",
   "metadata": {},
   "outputs": [],
   "source": [
    "! export AWS_ACCESS_KEY_ID=$AWS_ACCESS_KEY_ID\n",
    "! export AWS_SECRET_ACCESS_KEY=$AWS_SECRET_ACCESS_KEY"
   ]
  },
  {
   "cell_type": "code",
   "execution_count": 15,
   "id": "9f97e5c3",
   "metadata": {},
   "outputs": [
    {
     "name": "stdout",
     "output_type": "stream",
     "text": [
      "Error response from daemon: Get \"https://registry-1.docker.io/v2/\": unauthorized: incorrect username or password\r\n"
     ]
    }
   ],
   "source": [
    "! aws ecr get-login-password --region $REGION | docker login --username AWS --password-stdin"
   ]
  }
 ],
 "metadata": {
  "kernelspec": {
   "display_name": "Python 3 (ipykernel)",
   "language": "python",
   "name": "python3"
  },
  "language_info": {
   "codemirror_mode": {
    "name": "ipython",
    "version": 3
   },
   "file_extension": ".py",
   "mimetype": "text/x-python",
   "name": "python",
   "nbconvert_exporter": "python",
   "pygments_lexer": "ipython3",
   "version": "3.9.7"
  }
 },
 "nbformat": 4,
 "nbformat_minor": 5
}
